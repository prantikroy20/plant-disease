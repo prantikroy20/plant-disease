{
 "cells": [
  {
   "cell_type": "markdown",
   "id": "a03ae4f4",
   "metadata": {},
   "source": [
    "# IMPORTING LIBRARIES"
   ]
  },
  {
   "cell_type": "code",
   "execution_count": 117,
   "id": "eb2a4794-8cb2-4f60-9494-e38b19236347",
   "metadata": {},
   "outputs": [],
   "source": [
    "import tensorflow as tf\n",
    "import matplotlib.pyplot as plt\n",
    "import pandas as pd\n",
    "import seaborn as sns"
   ]
  },
  {
   "cell_type": "markdown",
   "id": "c8c7e17c",
   "metadata": {},
   "source": [
    "# DATA PRE- PROCESSING"
   ]
  },
  {
   "cell_type": "markdown",
   "id": "160656dd",
   "metadata": {},
   "source": [
    "## TRAINNING IMAGE PRE- PROCESSING"
   ]
  },
  {
   "cell_type": "code",
   "execution_count": 120,
   "id": "63f3a220-932f-4e53-98a0-beb2fc0125ac",
   "metadata": {},
   "outputs": [
    {
     "name": "stdout",
     "output_type": "stream",
     "text": [
      "Found 70295 files belonging to 38 classes.\n"
     ]
    }
   ],
   "source": [
    "training_set = tf.keras.utils.image_dataset_from_directory(\n",
    "    'train',\n",
    "    labels=\"inferred\",\n",
    "    label_mode=\"categorical\",\n",
    "    class_names=None,\n",
    "    color_mode=\"rgb\",\n",
    "    batch_size=32,\n",
    "    image_size=(128, 128),\n",
    "    shuffle=True,\n",
    "    seed=None,\n",
    "    validation_split=None,\n",
    "    subset=None,\n",
    "    interpolation=\"bilinear\",\n",
    "    follow_links=False,\n",
    "    crop_to_aspect_ratio=False,\n",
    "    pad_to_aspect_ratio=False,\n",
    "    data_format=None,\n",
    "    verbose=True,\n",
    ")"
   ]
  },
  {
   "cell_type": "markdown",
   "id": "7e147419",
   "metadata": {},
   "source": [
    "## VALIDATION IMAGE PRE- PROCESSING"
   ]
  },
  {
   "cell_type": "code",
   "execution_count": 122,
   "id": "a09d6889-5698-4345-9594-a5c4cff6ec97",
   "metadata": {},
   "outputs": [
    {
     "name": "stdout",
     "output_type": "stream",
     "text": [
      "Found 17572 files belonging to 38 classes.\n"
     ]
    }
   ],
   "source": [
    "validation_set = tf.keras.utils.image_dataset_from_directory(\n",
    "    'valid',\n",
    "    labels=\"inferred\",\n",
    "    label_mode=\"categorical\",\n",
    "    class_names=None,\n",
    "    color_mode=\"rgb\",\n",
    "    batch_size=32,\n",
    "    image_size=(128, 128),\n",
    "    shuffle=True,\n",
    "    seed=None,\n",
    "    validation_split=None,\n",
    "    subset=None,\n",
    "    interpolation=\"bilinear\",\n",
    "    follow_links=False,\n",
    "    crop_to_aspect_ratio=False,\n",
    "    pad_to_aspect_ratio=False,\n",
    "    data_format=None,\n",
    "    verbose=True,\n",
    ")"
   ]
  },
  {
   "cell_type": "code",
   "execution_count": 123,
   "id": "9890abb6-2cb3-4238-b269-c7cc3e12f2f3",
   "metadata": {},
   "outputs": [
    {
     "data": {
      "text/plain": [
       "<_PrefetchDataset element_spec=(TensorSpec(shape=(None, 128, 128, 3), dtype=tf.float32, name=None), TensorSpec(shape=(None, 38), dtype=tf.float32, name=None))>"
      ]
     },
     "execution_count": 123,
     "metadata": {},
     "output_type": "execute_result"
    }
   ],
   "source": [
    "training_set"
   ]
  },
  {
   "cell_type": "code",
   "execution_count": 124,
   "id": "8bdf1576-e28f-408b-80e6-f1a946de729f",
   "metadata": {},
   "outputs": [
    {
     "name": "stdout",
     "output_type": "stream",
     "text": [
      "tf.Tensor(\n",
      "[[[[ 73.5   73.    77.5 ]\n",
      "   [ 76.25  75.5   80.25]\n",
      "   [ 74.25  73.5   78.25]\n",
      "   ...\n",
      "   [ 26.25  18.75  19.25]\n",
      "   [ 25.25  18.25  17.25]\n",
      "   [ 24.25  17.25  16.25]]\n",
      "\n",
      "  [[148.75 147.75 152.75]\n",
      "   [150.25 149.25 154.25]\n",
      "   [148.   147.   152.  ]\n",
      "   ...\n",
      "   [ 46.75  37.75  38.75]\n",
      "   [ 43.25  35.25  33.25]\n",
      "   [ 39.5   31.5   29.5 ]]\n",
      "\n",
      "  [[147.75 146.75 151.75]\n",
      "   [147.25 146.25 151.25]\n",
      "   [147.75 146.75 151.75]\n",
      "   ...\n",
      "   [ 48.25  39.25  40.25]\n",
      "   [ 44.    36.    34.  ]\n",
      "   [ 39.75  31.75  29.75]]\n",
      "\n",
      "  ...\n",
      "\n",
      "  [[136.   139.   144.  ]\n",
      "   [136.   139.   144.  ]\n",
      "   [136.   139.   144.  ]\n",
      "   ...\n",
      "   [102.25 108.25 106.25]\n",
      "   [101.75 107.75 105.75]\n",
      "   [103.5  109.5  107.5 ]]\n",
      "\n",
      "  [[136.   139.   144.  ]\n",
      "   [136.   139.   144.  ]\n",
      "   [136.   139.   144.  ]\n",
      "   ...\n",
      "   [101.75 107.75 105.75]\n",
      "   [103.5  109.5  107.5 ]\n",
      "   [103.   109.   107.  ]]\n",
      "\n",
      "  [[136.   139.   144.  ]\n",
      "   [136.   139.   144.  ]\n",
      "   [136.   139.   144.  ]\n",
      "   ...\n",
      "   [100.   106.   104.  ]\n",
      "   [103.5  109.5  107.5 ]\n",
      "   [100.75 106.75 104.75]]]\n",
      "\n",
      "\n",
      " [[[121.   109.   109.  ]\n",
      "   [120.25 108.25 108.25]\n",
      "   [133.   121.   121.  ]\n",
      "   ...\n",
      "   [184.   182.   187.  ]\n",
      "   [185.5  183.5  188.5 ]\n",
      "   [187.25 185.25 190.25]]\n",
      "\n",
      "  [[121.   109.   109.  ]\n",
      "   [111.5   99.5   99.5 ]\n",
      "   [129.   117.   117.  ]\n",
      "   ...\n",
      "   [187.   185.   190.  ]\n",
      "   [185.75 183.75 188.75]\n",
      "   [187.   185.   190.  ]]\n",
      "\n",
      "  [[120.25 108.25 108.25]\n",
      "   [120.75 108.75 108.75]\n",
      "   [122.   110.   110.  ]\n",
      "   ...\n",
      "   [182.   180.   185.  ]\n",
      "   [179.25 177.25 182.25]\n",
      "   [180.75 178.75 183.75]]\n",
      "\n",
      "  ...\n",
      "\n",
      "  [[129.   117.   117.  ]\n",
      "   [138.25 126.25 126.25]\n",
      "   [129.25 117.25 117.25]\n",
      "   ...\n",
      "   [187.25 185.25 188.25]\n",
      "   [187.75 185.75 188.75]\n",
      "   [198.   196.   199.  ]]\n",
      "\n",
      "  [[129.   117.   117.  ]\n",
      "   [135.5  123.5  123.5 ]\n",
      "   [128.5  116.5  116.5 ]\n",
      "   ...\n",
      "   [190.25 188.25 191.25]\n",
      "   [188.75 186.75 189.75]\n",
      "   [194.   192.   195.  ]]\n",
      "\n",
      "  [[130.25 118.25 118.25]\n",
      "   [134.   122.   122.  ]\n",
      "   [126.25 114.25 114.25]\n",
      "   ...\n",
      "   [187.   185.   188.  ]\n",
      "   [190.25 188.25 191.25]\n",
      "   [192.25 190.25 193.25]]]\n",
      "\n",
      "\n",
      " [[[144.   148.   151.  ]\n",
      "   [143.75 147.75 150.75]\n",
      "   [142.5  146.5  149.5 ]\n",
      "   ...\n",
      "   [135.75 133.75 134.75]\n",
      "   [135.   133.   134.  ]\n",
      "   [134.5  132.5  133.5 ]]\n",
      "\n",
      "  [[145.75 149.75 152.75]\n",
      "   [144.5  148.5  151.5 ]\n",
      "   [142.   146.   149.  ]\n",
      "   ...\n",
      "   [130.25 128.25 129.25]\n",
      "   [131.   129.   130.  ]\n",
      "   [135.5  133.5  134.5 ]]\n",
      "\n",
      "  [[146.75 150.75 153.75]\n",
      "   [146.   150.   153.  ]\n",
      "   [144.75 148.75 151.75]\n",
      "   ...\n",
      "   [136.75 134.75 135.75]\n",
      "   [137.75 135.75 136.75]\n",
      "   [136.75 134.75 135.75]]\n",
      "\n",
      "  ...\n",
      "\n",
      "  [[120.25 116.25 117.25]\n",
      "   [123.25 119.25 120.25]\n",
      "   [117.75 113.75 114.75]\n",
      "   ...\n",
      "   [112.5  107.5  104.5 ]\n",
      "   [114.   109.   106.  ]\n",
      "   [115.5  110.5  107.5 ]]\n",
      "\n",
      "  [[112.5  108.5  109.5 ]\n",
      "   [119.5  115.5  116.5 ]\n",
      "   [120.25 116.25 117.25]\n",
      "   ...\n",
      "   [114.   109.   106.  ]\n",
      "   [114.   109.   106.  ]\n",
      "   [116.   111.   108.  ]]\n",
      "\n",
      "  [[122.25 118.25 119.25]\n",
      "   [120.   116.   117.  ]\n",
      "   [118.   114.   115.  ]\n",
      "   ...\n",
      "   [120.5  115.5  112.5 ]\n",
      "   [111.5  106.5  103.5 ]\n",
      "   [116.75 111.75 108.75]]]\n",
      "\n",
      "\n",
      " ...\n",
      "\n",
      "\n",
      " [[[148.   138.   137.  ]\n",
      "   [149.5  139.5  138.5 ]\n",
      "   [159.5  149.5  148.5 ]\n",
      "   ...\n",
      "   [107.    98.   101.  ]\n",
      "   [133.   124.   127.  ]\n",
      "   [122.75 113.75 116.75]]\n",
      "\n",
      "  [[149.   139.   138.  ]\n",
      "   [155.5  145.5  144.5 ]\n",
      "   [157.25 147.25 146.25]\n",
      "   ...\n",
      "   [136.5  127.5  130.5 ]\n",
      "   [128.5  119.5  122.5 ]\n",
      "   [131.75 122.75 125.75]]\n",
      "\n",
      "  [[156.25 146.25 145.25]\n",
      "   [142.75 132.75 131.75]\n",
      "   [164.5  154.5  153.5 ]\n",
      "   ...\n",
      "   [124.75 115.75 118.75]\n",
      "   [124.   115.   118.  ]\n",
      "   [127.25 118.25 121.25]]\n",
      "\n",
      "  ...\n",
      "\n",
      "  [[149.75 138.75 136.75]\n",
      "   [152.75 141.75 139.75]\n",
      "   [151.75 140.75 138.75]\n",
      "   ...\n",
      "   [129.5  117.5  117.5 ]\n",
      "   [126.75 114.75 114.75]\n",
      "   [130.5  118.5  118.5 ]]\n",
      "\n",
      "  [[146.25 135.25 133.25]\n",
      "   [142.25 131.25 129.25]\n",
      "   [147.25 136.25 134.25]\n",
      "   ...\n",
      "   [123.5  111.5  111.5 ]\n",
      "   [123.5  111.5  111.5 ]\n",
      "   [135.75 123.75 123.75]]\n",
      "\n",
      "  [[155.   144.   142.  ]\n",
      "   [140.   129.   127.  ]\n",
      "   [149.75 138.75 136.75]\n",
      "   ...\n",
      "   [136.   124.   124.  ]\n",
      "   [132.   120.   120.  ]\n",
      "   [111.25  99.25  99.25]]]\n",
      "\n",
      "\n",
      " [[[  0.     0.     0.  ]\n",
      "   [  0.     0.     0.  ]\n",
      "   [  0.     0.     0.  ]\n",
      "   ...\n",
      "   [  0.     0.     0.  ]\n",
      "   [  0.     0.     0.  ]\n",
      "   [  0.     0.     0.  ]]\n",
      "\n",
      "  [[  0.     0.     0.  ]\n",
      "   [  0.     0.     0.  ]\n",
      "   [  0.     0.     0.  ]\n",
      "   ...\n",
      "   [  0.     0.     0.  ]\n",
      "   [  0.     0.     0.  ]\n",
      "   [  0.     0.     0.  ]]\n",
      "\n",
      "  [[  0.     0.     0.  ]\n",
      "   [  0.     0.     0.  ]\n",
      "   [  0.     0.     0.  ]\n",
      "   ...\n",
      "   [  0.     0.     0.  ]\n",
      "   [  0.     0.     0.  ]\n",
      "   [  0.     0.     0.  ]]\n",
      "\n",
      "  ...\n",
      "\n",
      "  [[  0.     0.     0.  ]\n",
      "   [  0.     0.     0.  ]\n",
      "   [  0.     0.     0.  ]\n",
      "   ...\n",
      "   [  0.     0.     0.  ]\n",
      "   [  0.     0.     0.  ]\n",
      "   [  0.     0.     0.  ]]\n",
      "\n",
      "  [[  0.     0.     0.  ]\n",
      "   [  0.     0.     0.  ]\n",
      "   [  0.     0.     0.  ]\n",
      "   ...\n",
      "   [  0.     0.     0.  ]\n",
      "   [  0.     0.     0.  ]\n",
      "   [  0.     0.     0.  ]]\n",
      "\n",
      "  [[  0.     0.     0.  ]\n",
      "   [  0.     0.     0.  ]\n",
      "   [  0.     0.     0.  ]\n",
      "   ...\n",
      "   [  0.     0.     0.  ]\n",
      "   [  0.     0.     0.  ]\n",
      "   [  0.     0.     0.  ]]]\n",
      "\n",
      "\n",
      " [[[128.75 130.75 143.75]\n",
      "   [131.5  133.5  146.5 ]\n",
      "   [129.   131.   144.  ]\n",
      "   ...\n",
      "   [144.5  146.5  158.5 ]\n",
      "   [145.   147.   159.  ]\n",
      "   [144.5  146.5  158.5 ]]\n",
      "\n",
      "  [[127.75 129.75 142.75]\n",
      "   [132.5  134.5  147.5 ]\n",
      "   [132.75 134.75 147.75]\n",
      "   ...\n",
      "   [144.   146.   158.  ]\n",
      "   [145.   147.   159.  ]\n",
      "   [145.   147.   159.  ]]\n",
      "\n",
      "  [[124.5  126.5  139.5 ]\n",
      "   [130.25 132.25 145.25]\n",
      "   [136.5  138.5  151.5 ]\n",
      "   ...\n",
      "   [141.5  143.5  155.5 ]\n",
      "   [143.5  145.5  157.5 ]\n",
      "   [144.   146.   158.  ]]\n",
      "\n",
      "  ...\n",
      "\n",
      "  [[ 64.5   63.5   68.5 ]\n",
      "   [ 61.    60.    65.  ]\n",
      "   [ 50.5   49.5   55.5 ]\n",
      "   ...\n",
      "   [ 76.5   95.5   67.5 ]\n",
      "   [ 91.75 110.75  82.75]\n",
      "   [ 94.   113.    85.  ]]\n",
      "\n",
      "  [[ 62.25  61.25  67.25]\n",
      "   [ 65.    64.    70.  ]\n",
      "   [ 56.5   55.5   60.5 ]\n",
      "   ...\n",
      "   [ 81.   100.    72.  ]\n",
      "   [102.   121.    93.  ]\n",
      "   [ 87.5  106.5   78.5 ]]\n",
      "\n",
      "  [[ 49.25  48.25  56.25]\n",
      "   [ 59.5   58.5   64.5 ]\n",
      "   [ 54.5   53.5   58.5 ]\n",
      "   ...\n",
      "   [ 79.5   98.5   70.5 ]\n",
      "   [108.75 127.75  99.75]\n",
      "   [ 76.25  95.25  67.25]]]], shape=(32, 128, 128, 3), dtype=float32) (32, 128, 128, 3)\n",
      "tf.Tensor(\n",
      "[[1. 0. 0. ... 0. 0. 0.]\n",
      " [0. 0. 0. ... 0. 0. 0.]\n",
      " [0. 0. 0. ... 0. 0. 0.]\n",
      " ...\n",
      " [0. 0. 0. ... 1. 0. 0.]\n",
      " [0. 1. 0. ... 0. 0. 0.]\n",
      " [0. 0. 0. ... 0. 0. 0.]], shape=(32, 38), dtype=float32) (32, 38)\n"
     ]
    }
   ],
   "source": [
    "for x, y in training_set:\n",
    "    print(x, x.shape)\n",
    "    print(y, y.shape)\n",
    "    break"
   ]
  },
  {
   "cell_type": "markdown",
   "id": "b5a3cc78",
   "metadata": {},
   "source": [
    "## BUILDING THE MODEL"
   ]
  },
  {
   "cell_type": "code",
   "execution_count": 126,
   "id": "9398c2b3-b2de-450c-922b-b7a91cd139c0",
   "metadata": {},
   "outputs": [],
   "source": [
    "from tensorflow.keras.layers import Dense, Conv2D, MaxPool2D, Flatten, Dropout\n",
    "from tensorflow.keras.models import Sequential"
   ]
  },
  {
   "cell_type": "code",
   "execution_count": 127,
   "id": "dc9a0905-4930-477d-9500-43b7a54867a2",
   "metadata": {},
   "outputs": [],
   "source": [
    "model = Sequential()"
   ]
  },
  {
   "cell_type": "markdown",
   "id": "b4a91e4d",
   "metadata": {},
   "source": [
    "## BUILDING CONVOLUTION LAYER"
   ]
  },
  {
   "cell_type": "code",
   "execution_count": 129,
   "id": "0cd623c3-6760-4d3a-94d3-7296de2c38e1",
   "metadata": {},
   "outputs": [],
   "source": [
    "model.add(Conv2D(filters=32,kernel_size=3,padding='same',activation='relu',input_shape=[128,128,3]))\n",
    "model.add(Conv2D(filters=32,kernel_size=3,activation='relu'))\n",
    "model.add(MaxPool2D(pool_size=2,strides=2))"
   ]
  },
  {
   "cell_type": "code",
   "execution_count": 130,
   "id": "b9932046-3384-4df3-9218-ab7d39ddd13e",
   "metadata": {},
   "outputs": [],
   "source": [
    "model.add(Conv2D(filters=64,kernel_size=3,padding='same',activation='relu'))\n",
    "model.add(Conv2D(filters=64,kernel_size=3,activation='relu'))\n",
    "model.add(MaxPool2D(pool_size=2,strides=2))"
   ]
  },
  {
   "cell_type": "code",
   "execution_count": 131,
   "id": "556f9584-e553-4c95-b49e-2c1eb666128e",
   "metadata": {},
   "outputs": [],
   "source": [
    "model.add(Conv2D(filters=128,kernel_size=3,padding='same',activation='relu'))\n",
    "model.add(Conv2D(filters=128,kernel_size=3,activation='relu'))\n",
    "model.add(MaxPool2D(pool_size=2,strides=2))"
   ]
  },
  {
   "cell_type": "code",
   "execution_count": 132,
   "id": "fec091d9-ca15-4f4b-8709-65862374f92f",
   "metadata": {},
   "outputs": [],
   "source": [
    "model.add(Conv2D(filters=256,kernel_size=3,padding='same',activation='relu'))\n",
    "model.add(Conv2D(filters=256,kernel_size=3,activation='relu'))\n",
    "model.add(MaxPool2D(pool_size=2,strides=2))"
   ]
  },
  {
   "cell_type": "code",
   "execution_count": 133,
   "id": "cde21e3f-6994-431f-88af-c5748cf5daf3",
   "metadata": {},
   "outputs": [],
   "source": [
    "model.add(Conv2D(filters=512,kernel_size=3,padding='same',activation='relu'))\n",
    "model.add(Conv2D(filters=512,kernel_size=3,activation='relu'))\n",
    "model.add(MaxPool2D(pool_size=2,strides=2))"
   ]
  },
  {
   "cell_type": "code",
   "execution_count": 134,
   "id": "785e44e8-e5a6-4cce-b33d-38fd2489793c",
   "metadata": {},
   "outputs": [],
   "source": [
    "model.add(Dropout(0.25))  #to prevent from overfitting 25%"
   ]
  },
  {
   "cell_type": "code",
   "execution_count": 135,
   "id": "bc252846-c754-483d-88b9-f68f474abe0b",
   "metadata": {},
   "outputs": [],
   "source": [
    "model.add(Flatten())"
   ]
  },
  {
   "cell_type": "code",
   "execution_count": 136,
   "id": "168d3735-b1b1-45b4-a5d5-0af3b9adc1c7",
   "metadata": {},
   "outputs": [],
   "source": [
    "model.add(Dense(units=1500, activation='relu'))"
   ]
  },
  {
   "cell_type": "code",
   "execution_count": 137,
   "id": "b7da9686-c420-4368-8960-a605bdb0f501",
   "metadata": {},
   "outputs": [],
   "source": [
    "model.add(Dropout(0.4))  #to prevent from overfitting"
   ]
  },
  {
   "cell_type": "code",
   "execution_count": 138,
   "id": "6a0f681a-491f-4113-92f3-d7aa41a71d52",
   "metadata": {},
   "outputs": [],
   "source": [
    "#output layer\n",
    "\n",
    "model.add(Dense(units=38, activation='softmax'))"
   ]
  },
  {
   "cell_type": "markdown",
   "id": "0c4369ce",
   "metadata": {},
   "source": [
    "# COMPILING MODEL"
   ]
  },
  {
   "cell_type": "code",
   "execution_count": 140,
   "id": "58ace1f8-8411-4205-95af-bf9aff48fe76",
   "metadata": {},
   "outputs": [],
   "source": [
    "model.compile(optimizer=tf.keras.optimizers.Adam(learning_rate=0.0001), loss='categorical_crossentropy', metrics=['accuracy'])"
   ]
  },
  {
   "cell_type": "code",
   "execution_count": 141,
   "id": "b7ffd2db-140c-4d56-bb15-31e3b54db9a7",
   "metadata": {},
   "outputs": [
    {
     "data": {
      "text/html": [
       "<pre style=\"white-space:pre;overflow-x:auto;line-height:normal;font-family:Menlo,'DejaVu Sans Mono',consolas,'Courier New',monospace\"><span style=\"font-weight: bold\">Model: \"sequential_5\"</span>\n",
       "</pre>\n"
      ],
      "text/plain": [
       "\u001b[1mModel: \"sequential_5\"\u001b[0m\n"
      ]
     },
     "metadata": {},
     "output_type": "display_data"
    },
    {
     "data": {
      "text/html": [
       "<pre style=\"white-space:pre;overflow-x:auto;line-height:normal;font-family:Menlo,'DejaVu Sans Mono',consolas,'Courier New',monospace\">┏━━━━━━━━━━━━━━━━━━━━━━━━━━━━━━━━━━━━━━┳━━━━━━━━━━━━━━━━━━━━━━━━━━━━━┳━━━━━━━━━━━━━━━━━┓\n",
       "┃<span style=\"font-weight: bold\"> Layer (type)                         </span>┃<span style=\"font-weight: bold\"> Output Shape                </span>┃<span style=\"font-weight: bold\">         Param # </span>┃\n",
       "┡━━━━━━━━━━━━━━━━━━━━━━━━━━━━━━━━━━━━━━╇━━━━━━━━━━━━━━━━━━━━━━━━━━━━━╇━━━━━━━━━━━━━━━━━┩\n",
       "│ conv2d_38 (<span style=\"color: #0087ff; text-decoration-color: #0087ff\">Conv2D</span>)                   │ (<span style=\"color: #00d7ff; text-decoration-color: #00d7ff\">None</span>, <span style=\"color: #00af00; text-decoration-color: #00af00\">128</span>, <span style=\"color: #00af00; text-decoration-color: #00af00\">128</span>, <span style=\"color: #00af00; text-decoration-color: #00af00\">32</span>)        │             <span style=\"color: #00af00; text-decoration-color: #00af00\">896</span> │\n",
       "├──────────────────────────────────────┼─────────────────────────────┼─────────────────┤\n",
       "│ conv2d_39 (<span style=\"color: #0087ff; text-decoration-color: #0087ff\">Conv2D</span>)                   │ (<span style=\"color: #00d7ff; text-decoration-color: #00d7ff\">None</span>, <span style=\"color: #00af00; text-decoration-color: #00af00\">126</span>, <span style=\"color: #00af00; text-decoration-color: #00af00\">126</span>, <span style=\"color: #00af00; text-decoration-color: #00af00\">32</span>)        │           <span style=\"color: #00af00; text-decoration-color: #00af00\">9,248</span> │\n",
       "├──────────────────────────────────────┼─────────────────────────────┼─────────────────┤\n",
       "│ max_pooling2d_18 (<span style=\"color: #0087ff; text-decoration-color: #0087ff\">MaxPooling2D</span>)      │ (<span style=\"color: #00d7ff; text-decoration-color: #00d7ff\">None</span>, <span style=\"color: #00af00; text-decoration-color: #00af00\">63</span>, <span style=\"color: #00af00; text-decoration-color: #00af00\">63</span>, <span style=\"color: #00af00; text-decoration-color: #00af00\">32</span>)          │               <span style=\"color: #00af00; text-decoration-color: #00af00\">0</span> │\n",
       "├──────────────────────────────────────┼─────────────────────────────┼─────────────────┤\n",
       "│ conv2d_40 (<span style=\"color: #0087ff; text-decoration-color: #0087ff\">Conv2D</span>)                   │ (<span style=\"color: #00d7ff; text-decoration-color: #00d7ff\">None</span>, <span style=\"color: #00af00; text-decoration-color: #00af00\">63</span>, <span style=\"color: #00af00; text-decoration-color: #00af00\">63</span>, <span style=\"color: #00af00; text-decoration-color: #00af00\">64</span>)          │          <span style=\"color: #00af00; text-decoration-color: #00af00\">18,496</span> │\n",
       "├──────────────────────────────────────┼─────────────────────────────┼─────────────────┤\n",
       "│ conv2d_41 (<span style=\"color: #0087ff; text-decoration-color: #0087ff\">Conv2D</span>)                   │ (<span style=\"color: #00d7ff; text-decoration-color: #00d7ff\">None</span>, <span style=\"color: #00af00; text-decoration-color: #00af00\">61</span>, <span style=\"color: #00af00; text-decoration-color: #00af00\">61</span>, <span style=\"color: #00af00; text-decoration-color: #00af00\">64</span>)          │          <span style=\"color: #00af00; text-decoration-color: #00af00\">36,928</span> │\n",
       "├──────────────────────────────────────┼─────────────────────────────┼─────────────────┤\n",
       "│ max_pooling2d_19 (<span style=\"color: #0087ff; text-decoration-color: #0087ff\">MaxPooling2D</span>)      │ (<span style=\"color: #00d7ff; text-decoration-color: #00d7ff\">None</span>, <span style=\"color: #00af00; text-decoration-color: #00af00\">30</span>, <span style=\"color: #00af00; text-decoration-color: #00af00\">30</span>, <span style=\"color: #00af00; text-decoration-color: #00af00\">64</span>)          │               <span style=\"color: #00af00; text-decoration-color: #00af00\">0</span> │\n",
       "├──────────────────────────────────────┼─────────────────────────────┼─────────────────┤\n",
       "│ conv2d_42 (<span style=\"color: #0087ff; text-decoration-color: #0087ff\">Conv2D</span>)                   │ (<span style=\"color: #00d7ff; text-decoration-color: #00d7ff\">None</span>, <span style=\"color: #00af00; text-decoration-color: #00af00\">30</span>, <span style=\"color: #00af00; text-decoration-color: #00af00\">30</span>, <span style=\"color: #00af00; text-decoration-color: #00af00\">128</span>)         │          <span style=\"color: #00af00; text-decoration-color: #00af00\">73,856</span> │\n",
       "├──────────────────────────────────────┼─────────────────────────────┼─────────────────┤\n",
       "│ conv2d_43 (<span style=\"color: #0087ff; text-decoration-color: #0087ff\">Conv2D</span>)                   │ (<span style=\"color: #00d7ff; text-decoration-color: #00d7ff\">None</span>, <span style=\"color: #00af00; text-decoration-color: #00af00\">28</span>, <span style=\"color: #00af00; text-decoration-color: #00af00\">28</span>, <span style=\"color: #00af00; text-decoration-color: #00af00\">128</span>)         │         <span style=\"color: #00af00; text-decoration-color: #00af00\">147,584</span> │\n",
       "├──────────────────────────────────────┼─────────────────────────────┼─────────────────┤\n",
       "│ max_pooling2d_20 (<span style=\"color: #0087ff; text-decoration-color: #0087ff\">MaxPooling2D</span>)      │ (<span style=\"color: #00d7ff; text-decoration-color: #00d7ff\">None</span>, <span style=\"color: #00af00; text-decoration-color: #00af00\">14</span>, <span style=\"color: #00af00; text-decoration-color: #00af00\">14</span>, <span style=\"color: #00af00; text-decoration-color: #00af00\">128</span>)         │               <span style=\"color: #00af00; text-decoration-color: #00af00\">0</span> │\n",
       "├──────────────────────────────────────┼─────────────────────────────┼─────────────────┤\n",
       "│ conv2d_44 (<span style=\"color: #0087ff; text-decoration-color: #0087ff\">Conv2D</span>)                   │ (<span style=\"color: #00d7ff; text-decoration-color: #00d7ff\">None</span>, <span style=\"color: #00af00; text-decoration-color: #00af00\">14</span>, <span style=\"color: #00af00; text-decoration-color: #00af00\">14</span>, <span style=\"color: #00af00; text-decoration-color: #00af00\">256</span>)         │         <span style=\"color: #00af00; text-decoration-color: #00af00\">295,168</span> │\n",
       "├──────────────────────────────────────┼─────────────────────────────┼─────────────────┤\n",
       "│ conv2d_45 (<span style=\"color: #0087ff; text-decoration-color: #0087ff\">Conv2D</span>)                   │ (<span style=\"color: #00d7ff; text-decoration-color: #00d7ff\">None</span>, <span style=\"color: #00af00; text-decoration-color: #00af00\">12</span>, <span style=\"color: #00af00; text-decoration-color: #00af00\">12</span>, <span style=\"color: #00af00; text-decoration-color: #00af00\">256</span>)         │         <span style=\"color: #00af00; text-decoration-color: #00af00\">590,080</span> │\n",
       "├──────────────────────────────────────┼─────────────────────────────┼─────────────────┤\n",
       "│ max_pooling2d_21 (<span style=\"color: #0087ff; text-decoration-color: #0087ff\">MaxPooling2D</span>)      │ (<span style=\"color: #00d7ff; text-decoration-color: #00d7ff\">None</span>, <span style=\"color: #00af00; text-decoration-color: #00af00\">6</span>, <span style=\"color: #00af00; text-decoration-color: #00af00\">6</span>, <span style=\"color: #00af00; text-decoration-color: #00af00\">256</span>)           │               <span style=\"color: #00af00; text-decoration-color: #00af00\">0</span> │\n",
       "├──────────────────────────────────────┼─────────────────────────────┼─────────────────┤\n",
       "│ conv2d_46 (<span style=\"color: #0087ff; text-decoration-color: #0087ff\">Conv2D</span>)                   │ (<span style=\"color: #00d7ff; text-decoration-color: #00d7ff\">None</span>, <span style=\"color: #00af00; text-decoration-color: #00af00\">6</span>, <span style=\"color: #00af00; text-decoration-color: #00af00\">6</span>, <span style=\"color: #00af00; text-decoration-color: #00af00\">512</span>)           │       <span style=\"color: #00af00; text-decoration-color: #00af00\">1,180,160</span> │\n",
       "├──────────────────────────────────────┼─────────────────────────────┼─────────────────┤\n",
       "│ conv2d_47 (<span style=\"color: #0087ff; text-decoration-color: #0087ff\">Conv2D</span>)                   │ (<span style=\"color: #00d7ff; text-decoration-color: #00d7ff\">None</span>, <span style=\"color: #00af00; text-decoration-color: #00af00\">4</span>, <span style=\"color: #00af00; text-decoration-color: #00af00\">4</span>, <span style=\"color: #00af00; text-decoration-color: #00af00\">512</span>)           │       <span style=\"color: #00af00; text-decoration-color: #00af00\">2,359,808</span> │\n",
       "├──────────────────────────────────────┼─────────────────────────────┼─────────────────┤\n",
       "│ max_pooling2d_22 (<span style=\"color: #0087ff; text-decoration-color: #0087ff\">MaxPooling2D</span>)      │ (<span style=\"color: #00d7ff; text-decoration-color: #00d7ff\">None</span>, <span style=\"color: #00af00; text-decoration-color: #00af00\">2</span>, <span style=\"color: #00af00; text-decoration-color: #00af00\">2</span>, <span style=\"color: #00af00; text-decoration-color: #00af00\">512</span>)           │               <span style=\"color: #00af00; text-decoration-color: #00af00\">0</span> │\n",
       "├──────────────────────────────────────┼─────────────────────────────┼─────────────────┤\n",
       "│ dropout_9 (<span style=\"color: #0087ff; text-decoration-color: #0087ff\">Dropout</span>)                  │ (<span style=\"color: #00d7ff; text-decoration-color: #00d7ff\">None</span>, <span style=\"color: #00af00; text-decoration-color: #00af00\">2</span>, <span style=\"color: #00af00; text-decoration-color: #00af00\">2</span>, <span style=\"color: #00af00; text-decoration-color: #00af00\">512</span>)           │               <span style=\"color: #00af00; text-decoration-color: #00af00\">0</span> │\n",
       "├──────────────────────────────────────┼─────────────────────────────┼─────────────────┤\n",
       "│ flatten_4 (<span style=\"color: #0087ff; text-decoration-color: #0087ff\">Flatten</span>)                  │ (<span style=\"color: #00d7ff; text-decoration-color: #00d7ff\">None</span>, <span style=\"color: #00af00; text-decoration-color: #00af00\">2048</span>)                │               <span style=\"color: #00af00; text-decoration-color: #00af00\">0</span> │\n",
       "├──────────────────────────────────────┼─────────────────────────────┼─────────────────┤\n",
       "│ dense_12 (<span style=\"color: #0087ff; text-decoration-color: #0087ff\">Dense</span>)                     │ (<span style=\"color: #00d7ff; text-decoration-color: #00d7ff\">None</span>, <span style=\"color: #00af00; text-decoration-color: #00af00\">1500</span>)                │       <span style=\"color: #00af00; text-decoration-color: #00af00\">3,073,500</span> │\n",
       "├──────────────────────────────────────┼─────────────────────────────┼─────────────────┤\n",
       "│ dropout_10 (<span style=\"color: #0087ff; text-decoration-color: #0087ff\">Dropout</span>)                 │ (<span style=\"color: #00d7ff; text-decoration-color: #00d7ff\">None</span>, <span style=\"color: #00af00; text-decoration-color: #00af00\">1500</span>)                │               <span style=\"color: #00af00; text-decoration-color: #00af00\">0</span> │\n",
       "├──────────────────────────────────────┼─────────────────────────────┼─────────────────┤\n",
       "│ dense_13 (<span style=\"color: #0087ff; text-decoration-color: #0087ff\">Dense</span>)                     │ (<span style=\"color: #00d7ff; text-decoration-color: #00d7ff\">None</span>, <span style=\"color: #00af00; text-decoration-color: #00af00\">38</span>)                  │          <span style=\"color: #00af00; text-decoration-color: #00af00\">57,038</span> │\n",
       "└──────────────────────────────────────┴─────────────────────────────┴─────────────────┘\n",
       "</pre>\n"
      ],
      "text/plain": [
       "┏━━━━━━━━━━━━━━━━━━━━━━━━━━━━━━━━━━━━━━┳━━━━━━━━━━━━━━━━━━━━━━━━━━━━━┳━━━━━━━━━━━━━━━━━┓\n",
       "┃\u001b[1m \u001b[0m\u001b[1mLayer (type)                        \u001b[0m\u001b[1m \u001b[0m┃\u001b[1m \u001b[0m\u001b[1mOutput Shape               \u001b[0m\u001b[1m \u001b[0m┃\u001b[1m \u001b[0m\u001b[1m        Param #\u001b[0m\u001b[1m \u001b[0m┃\n",
       "┡━━━━━━━━━━━━━━━━━━━━━━━━━━━━━━━━━━━━━━╇━━━━━━━━━━━━━━━━━━━━━━━━━━━━━╇━━━━━━━━━━━━━━━━━┩\n",
       "│ conv2d_38 (\u001b[38;5;33mConv2D\u001b[0m)                   │ (\u001b[38;5;45mNone\u001b[0m, \u001b[38;5;34m128\u001b[0m, \u001b[38;5;34m128\u001b[0m, \u001b[38;5;34m32\u001b[0m)        │             \u001b[38;5;34m896\u001b[0m │\n",
       "├──────────────────────────────────────┼─────────────────────────────┼─────────────────┤\n",
       "│ conv2d_39 (\u001b[38;5;33mConv2D\u001b[0m)                   │ (\u001b[38;5;45mNone\u001b[0m, \u001b[38;5;34m126\u001b[0m, \u001b[38;5;34m126\u001b[0m, \u001b[38;5;34m32\u001b[0m)        │           \u001b[38;5;34m9,248\u001b[0m │\n",
       "├──────────────────────────────────────┼─────────────────────────────┼─────────────────┤\n",
       "│ max_pooling2d_18 (\u001b[38;5;33mMaxPooling2D\u001b[0m)      │ (\u001b[38;5;45mNone\u001b[0m, \u001b[38;5;34m63\u001b[0m, \u001b[38;5;34m63\u001b[0m, \u001b[38;5;34m32\u001b[0m)          │               \u001b[38;5;34m0\u001b[0m │\n",
       "├──────────────────────────────────────┼─────────────────────────────┼─────────────────┤\n",
       "│ conv2d_40 (\u001b[38;5;33mConv2D\u001b[0m)                   │ (\u001b[38;5;45mNone\u001b[0m, \u001b[38;5;34m63\u001b[0m, \u001b[38;5;34m63\u001b[0m, \u001b[38;5;34m64\u001b[0m)          │          \u001b[38;5;34m18,496\u001b[0m │\n",
       "├──────────────────────────────────────┼─────────────────────────────┼─────────────────┤\n",
       "│ conv2d_41 (\u001b[38;5;33mConv2D\u001b[0m)                   │ (\u001b[38;5;45mNone\u001b[0m, \u001b[38;5;34m61\u001b[0m, \u001b[38;5;34m61\u001b[0m, \u001b[38;5;34m64\u001b[0m)          │          \u001b[38;5;34m36,928\u001b[0m │\n",
       "├──────────────────────────────────────┼─────────────────────────────┼─────────────────┤\n",
       "│ max_pooling2d_19 (\u001b[38;5;33mMaxPooling2D\u001b[0m)      │ (\u001b[38;5;45mNone\u001b[0m, \u001b[38;5;34m30\u001b[0m, \u001b[38;5;34m30\u001b[0m, \u001b[38;5;34m64\u001b[0m)          │               \u001b[38;5;34m0\u001b[0m │\n",
       "├──────────────────────────────────────┼─────────────────────────────┼─────────────────┤\n",
       "│ conv2d_42 (\u001b[38;5;33mConv2D\u001b[0m)                   │ (\u001b[38;5;45mNone\u001b[0m, \u001b[38;5;34m30\u001b[0m, \u001b[38;5;34m30\u001b[0m, \u001b[38;5;34m128\u001b[0m)         │          \u001b[38;5;34m73,856\u001b[0m │\n",
       "├──────────────────────────────────────┼─────────────────────────────┼─────────────────┤\n",
       "│ conv2d_43 (\u001b[38;5;33mConv2D\u001b[0m)                   │ (\u001b[38;5;45mNone\u001b[0m, \u001b[38;5;34m28\u001b[0m, \u001b[38;5;34m28\u001b[0m, \u001b[38;5;34m128\u001b[0m)         │         \u001b[38;5;34m147,584\u001b[0m │\n",
       "├──────────────────────────────────────┼─────────────────────────────┼─────────────────┤\n",
       "│ max_pooling2d_20 (\u001b[38;5;33mMaxPooling2D\u001b[0m)      │ (\u001b[38;5;45mNone\u001b[0m, \u001b[38;5;34m14\u001b[0m, \u001b[38;5;34m14\u001b[0m, \u001b[38;5;34m128\u001b[0m)         │               \u001b[38;5;34m0\u001b[0m │\n",
       "├──────────────────────────────────────┼─────────────────────────────┼─────────────────┤\n",
       "│ conv2d_44 (\u001b[38;5;33mConv2D\u001b[0m)                   │ (\u001b[38;5;45mNone\u001b[0m, \u001b[38;5;34m14\u001b[0m, \u001b[38;5;34m14\u001b[0m, \u001b[38;5;34m256\u001b[0m)         │         \u001b[38;5;34m295,168\u001b[0m │\n",
       "├──────────────────────────────────────┼─────────────────────────────┼─────────────────┤\n",
       "│ conv2d_45 (\u001b[38;5;33mConv2D\u001b[0m)                   │ (\u001b[38;5;45mNone\u001b[0m, \u001b[38;5;34m12\u001b[0m, \u001b[38;5;34m12\u001b[0m, \u001b[38;5;34m256\u001b[0m)         │         \u001b[38;5;34m590,080\u001b[0m │\n",
       "├──────────────────────────────────────┼─────────────────────────────┼─────────────────┤\n",
       "│ max_pooling2d_21 (\u001b[38;5;33mMaxPooling2D\u001b[0m)      │ (\u001b[38;5;45mNone\u001b[0m, \u001b[38;5;34m6\u001b[0m, \u001b[38;5;34m6\u001b[0m, \u001b[38;5;34m256\u001b[0m)           │               \u001b[38;5;34m0\u001b[0m │\n",
       "├──────────────────────────────────────┼─────────────────────────────┼─────────────────┤\n",
       "│ conv2d_46 (\u001b[38;5;33mConv2D\u001b[0m)                   │ (\u001b[38;5;45mNone\u001b[0m, \u001b[38;5;34m6\u001b[0m, \u001b[38;5;34m6\u001b[0m, \u001b[38;5;34m512\u001b[0m)           │       \u001b[38;5;34m1,180,160\u001b[0m │\n",
       "├──────────────────────────────────────┼─────────────────────────────┼─────────────────┤\n",
       "│ conv2d_47 (\u001b[38;5;33mConv2D\u001b[0m)                   │ (\u001b[38;5;45mNone\u001b[0m, \u001b[38;5;34m4\u001b[0m, \u001b[38;5;34m4\u001b[0m, \u001b[38;5;34m512\u001b[0m)           │       \u001b[38;5;34m2,359,808\u001b[0m │\n",
       "├──────────────────────────────────────┼─────────────────────────────┼─────────────────┤\n",
       "│ max_pooling2d_22 (\u001b[38;5;33mMaxPooling2D\u001b[0m)      │ (\u001b[38;5;45mNone\u001b[0m, \u001b[38;5;34m2\u001b[0m, \u001b[38;5;34m2\u001b[0m, \u001b[38;5;34m512\u001b[0m)           │               \u001b[38;5;34m0\u001b[0m │\n",
       "├──────────────────────────────────────┼─────────────────────────────┼─────────────────┤\n",
       "│ dropout_9 (\u001b[38;5;33mDropout\u001b[0m)                  │ (\u001b[38;5;45mNone\u001b[0m, \u001b[38;5;34m2\u001b[0m, \u001b[38;5;34m2\u001b[0m, \u001b[38;5;34m512\u001b[0m)           │               \u001b[38;5;34m0\u001b[0m │\n",
       "├──────────────────────────────────────┼─────────────────────────────┼─────────────────┤\n",
       "│ flatten_4 (\u001b[38;5;33mFlatten\u001b[0m)                  │ (\u001b[38;5;45mNone\u001b[0m, \u001b[38;5;34m2048\u001b[0m)                │               \u001b[38;5;34m0\u001b[0m │\n",
       "├──────────────────────────────────────┼─────────────────────────────┼─────────────────┤\n",
       "│ dense_12 (\u001b[38;5;33mDense\u001b[0m)                     │ (\u001b[38;5;45mNone\u001b[0m, \u001b[38;5;34m1500\u001b[0m)                │       \u001b[38;5;34m3,073,500\u001b[0m │\n",
       "├──────────────────────────────────────┼─────────────────────────────┼─────────────────┤\n",
       "│ dropout_10 (\u001b[38;5;33mDropout\u001b[0m)                 │ (\u001b[38;5;45mNone\u001b[0m, \u001b[38;5;34m1500\u001b[0m)                │               \u001b[38;5;34m0\u001b[0m │\n",
       "├──────────────────────────────────────┼─────────────────────────────┼─────────────────┤\n",
       "│ dense_13 (\u001b[38;5;33mDense\u001b[0m)                     │ (\u001b[38;5;45mNone\u001b[0m, \u001b[38;5;34m38\u001b[0m)                  │          \u001b[38;5;34m57,038\u001b[0m │\n",
       "└──────────────────────────────────────┴─────────────────────────────┴─────────────────┘\n"
      ]
     },
     "metadata": {},
     "output_type": "display_data"
    },
    {
     "data": {
      "text/html": [
       "<pre style=\"white-space:pre;overflow-x:auto;line-height:normal;font-family:Menlo,'DejaVu Sans Mono',consolas,'Courier New',monospace\"><span style=\"font-weight: bold\"> Total params: </span><span style=\"color: #00af00; text-decoration-color: #00af00\">7,842,762</span> (29.92 MB)\n",
       "</pre>\n"
      ],
      "text/plain": [
       "\u001b[1m Total params: \u001b[0m\u001b[38;5;34m7,842,762\u001b[0m (29.92 MB)\n"
      ]
     },
     "metadata": {},
     "output_type": "display_data"
    },
    {
     "data": {
      "text/html": [
       "<pre style=\"white-space:pre;overflow-x:auto;line-height:normal;font-family:Menlo,'DejaVu Sans Mono',consolas,'Courier New',monospace\"><span style=\"font-weight: bold\"> Trainable params: </span><span style=\"color: #00af00; text-decoration-color: #00af00\">7,842,762</span> (29.92 MB)\n",
       "</pre>\n"
      ],
      "text/plain": [
       "\u001b[1m Trainable params: \u001b[0m\u001b[38;5;34m7,842,762\u001b[0m (29.92 MB)\n"
      ]
     },
     "metadata": {},
     "output_type": "display_data"
    },
    {
     "data": {
      "text/html": [
       "<pre style=\"white-space:pre;overflow-x:auto;line-height:normal;font-family:Menlo,'DejaVu Sans Mono',consolas,'Courier New',monospace\"><span style=\"font-weight: bold\"> Non-trainable params: </span><span style=\"color: #00af00; text-decoration-color: #00af00\">0</span> (0.00 B)\n",
       "</pre>\n"
      ],
      "text/plain": [
       "\u001b[1m Non-trainable params: \u001b[0m\u001b[38;5;34m0\u001b[0m (0.00 B)\n"
      ]
     },
     "metadata": {},
     "output_type": "display_data"
    }
   ],
   "source": [
    "model.summary()"
   ]
  },
  {
   "cell_type": "markdown",
   "id": "a466430e",
   "metadata": {},
   "source": [
    "# TRAINING MODEL"
   ]
  },
  {
   "cell_type": "code",
   "execution_count": 143,
   "id": "2237cf25-2c15-4bac-b173-f8c7399069db",
   "metadata": {},
   "outputs": [
    {
     "name": "stdout",
     "output_type": "stream",
     "text": [
      "Epoch 1/10\n",
      "\u001b[1m2197/2197\u001b[0m \u001b[32m━━━━━━━━━━━━━━━━━━━━\u001b[0m\u001b[37m\u001b[0m \u001b[1m1108s\u001b[0m 502ms/step - accuracy: 0.3933 - loss: 2.1370 - val_accuracy: 0.8318 - val_loss: 0.5330\n",
      "Epoch 2/10\n",
      "\u001b[1m2197/2197\u001b[0m \u001b[32m━━━━━━━━━━━━━━━━━━━━\u001b[0m\u001b[37m\u001b[0m \u001b[1m1160s\u001b[0m 528ms/step - accuracy: 0.8431 - loss: 0.5015 - val_accuracy: 0.9171 - val_loss: 0.2507\n",
      "Epoch 3/10\n",
      "\u001b[1m2197/2197\u001b[0m \u001b[32m━━━━━━━━━━━━━━━━━━━━\u001b[0m\u001b[37m\u001b[0m \u001b[1m1143s\u001b[0m 520ms/step - accuracy: 0.9083 - loss: 0.2916 - val_accuracy: 0.9369 - val_loss: 0.1977\n",
      "Epoch 4/10\n",
      "\u001b[1m2197/2197\u001b[0m \u001b[32m━━━━━━━━━━━━━━━━━━━━\u001b[0m\u001b[37m\u001b[0m \u001b[1m1083s\u001b[0m 493ms/step - accuracy: 0.9345 - loss: 0.1972 - val_accuracy: 0.9414 - val_loss: 0.1843\n",
      "Epoch 5/10\n",
      "\u001b[1m2197/2197\u001b[0m \u001b[32m━━━━━━━━━━━━━━━━━━━━\u001b[0m\u001b[37m\u001b[0m \u001b[1m1086s\u001b[0m 494ms/step - accuracy: 0.9538 - loss: 0.1397 - val_accuracy: 0.9583 - val_loss: 0.1321\n",
      "Epoch 6/10\n",
      "\u001b[1m2197/2197\u001b[0m \u001b[32m━━━━━━━━━━━━━━━━━━━━\u001b[0m\u001b[37m\u001b[0m \u001b[1m1107s\u001b[0m 504ms/step - accuracy: 0.9653 - loss: 0.1051 - val_accuracy: 0.9612 - val_loss: 0.1255\n",
      "Epoch 7/10\n",
      "\u001b[1m2197/2197\u001b[0m \u001b[32m━━━━━━━━━━━━━━━━━━━━\u001b[0m\u001b[37m\u001b[0m \u001b[1m1113s\u001b[0m 506ms/step - accuracy: 0.9703 - loss: 0.0946 - val_accuracy: 0.9618 - val_loss: 0.1206\n",
      "Epoch 8/10\n",
      "\u001b[1m2197/2197\u001b[0m \u001b[32m━━━━━━━━━━━━━━━━━━━━\u001b[0m\u001b[37m\u001b[0m \u001b[1m1078s\u001b[0m 491ms/step - accuracy: 0.9761 - loss: 0.0724 - val_accuracy: 0.9619 - val_loss: 0.1330\n",
      "Epoch 9/10\n",
      "\u001b[1m2197/2197\u001b[0m \u001b[32m━━━━━━━━━━━━━━━━━━━━\u001b[0m\u001b[37m\u001b[0m \u001b[1m1102s\u001b[0m 502ms/step - accuracy: 0.9783 - loss: 0.0653 - val_accuracy: 0.9647 - val_loss: 0.1160\n",
      "Epoch 10/10\n",
      "\u001b[1m2197/2197\u001b[0m \u001b[32m━━━━━━━━━━━━━━━━━━━━\u001b[0m\u001b[37m\u001b[0m \u001b[1m1114s\u001b[0m 507ms/step - accuracy: 0.9798 - loss: 0.0596 - val_accuracy: 0.9707 - val_loss: 0.0983\n"
     ]
    }
   ],
   "source": [
    "training_history = model.fit(x=training_set, validation_data=validation_set, epochs=10)"
   ]
  },
  {
   "cell_type": "code",
   "execution_count": 144,
   "id": "e84b5b58-fed3-4298-9a3f-43e43bdb089b",
   "metadata": {},
   "outputs": [],
   "source": [
    "## MODEL EVALUATION"
   ]
  },
  {
   "cell_type": "code",
   "execution_count": 145,
   "id": "0525c7ef-d3ab-4252-81ef-2fc4999714e3",
   "metadata": {},
   "outputs": [
    {
     "name": "stdout",
     "output_type": "stream",
     "text": [
      "\u001b[1m2197/2197\u001b[0m \u001b[32m━━━━━━━━━━━━━━━━━━━━\u001b[0m\u001b[37m\u001b[0m \u001b[1m268s\u001b[0m 122ms/step - accuracy: 0.9939 - loss: 0.0213\n",
      "Training accuracy: 0.9945231080055237\n"
     ]
    }
   ],
   "source": [
    "# model evaluation on training set\n",
    "train_loss, train_acc = model.evaluate(training_set)\n",
    "print('Training accuracy:', train_acc)"
   ]
  },
  {
   "cell_type": "code",
   "execution_count": 147,
   "id": "bc22bc59-4f9e-46ed-b6d6-8d7bf0d43507",
   "metadata": {},
   "outputs": [
    {
     "name": "stdout",
     "output_type": "stream",
     "text": [
      "\u001b[1m550/550\u001b[0m \u001b[32m━━━━━━━━━━━━━━━━━━━━\u001b[0m\u001b[37m\u001b[0m \u001b[1m68s\u001b[0m 123ms/step - accuracy: 0.9703 - loss: 0.0981\n",
      "Validation accuracy: 0.9706920385360718\n"
     ]
    }
   ],
   "source": [
    "# model evaluation on validation set\n",
    "val_loss, val_acc = model.evaluate(validation_set)\n",
    "print('Validation accuracy:', val_acc)"
   ]
  },
  {
   "cell_type": "markdown",
   "id": "476b4cb0",
   "metadata": {},
   "source": [
    "## SAVING MODEL"
   ]
  },
  {
   "cell_type": "code",
   "execution_count": 156,
   "id": "cb3ddf80-f533-4593-bbf3-1c6fc11b1448",
   "metadata": {},
   "outputs": [],
   "source": [
    "model.save(\"trained_model.keras\")"
   ]
  },
  {
   "cell_type": "code",
   "execution_count": 157,
   "id": "172d2d45-9a9f-4043-9d08-bd9e38b4b2c6",
   "metadata": {},
   "outputs": [
    {
     "data": {
      "text/plain": [
       "{'accuracy': [0.5999004244804382,\n",
       "  0.8654953837394714,\n",
       "  0.9162671566009521,\n",
       "  0.9397823214530945,\n",
       "  0.955274224281311,\n",
       "  0.964179515838623,\n",
       "  0.9723308682441711,\n",
       "  0.9762714505195618,\n",
       "  0.9788604974746704,\n",
       "  0.981022834777832],\n",
       " 'loss': [1.351891040802002,\n",
       "  0.42638251185417175,\n",
       "  0.26058337092399597,\n",
       "  0.18237733840942383,\n",
       "  0.13590499758720398,\n",
       "  0.10773288458585739,\n",
       "  0.08839333802461624,\n",
       "  0.07270245254039764,\n",
       "  0.06513749063014984,\n",
       "  0.0583147294819355],\n",
       " 'val_accuracy': [0.831777811050415,\n",
       "  0.9171409010887146,\n",
       "  0.9368882179260254,\n",
       "  0.9413840174674988,\n",
       "  0.958285927772522,\n",
       "  0.9611882567405701,\n",
       "  0.9617573618888855,\n",
       "  0.9618711471557617,\n",
       "  0.9647166132926941,\n",
       "  0.9706920385360718],\n",
       " 'val_loss': [0.5330289602279663,\n",
       "  0.25065046548843384,\n",
       "  0.19769106805324554,\n",
       "  0.18429283797740936,\n",
       "  0.13206717371940613,\n",
       "  0.12546060979366302,\n",
       "  0.12056262046098709,\n",
       "  0.13296401500701904,\n",
       "  0.11604669690132141,\n",
       "  0.09831973910331726]}"
      ]
     },
     "execution_count": 157,
     "metadata": {},
     "output_type": "execute_result"
    }
   ],
   "source": [
    "training_history.history   # Return Dictionary of history"
   ]
  },
  {
   "cell_type": "code",
   "execution_count": 151,
   "id": "cbf93779-b792-43c9-a8c2-3a28ebfd938a",
   "metadata": {},
   "outputs": [],
   "source": [
    "#Recording History in json\n",
    "import json\n",
    "with open('training_hist.json','w') as f:\n",
    "  json.dump(training_history.history,f)"
   ]
  },
  {
   "cell_type": "code",
   "execution_count": 152,
   "id": "3a535e2f-3be4-40c9-a43d-815c70fdc149",
   "metadata": {},
   "outputs": [
    {
     "name": "stdout",
     "output_type": "stream",
     "text": [
      "dict_keys(['accuracy', 'loss', 'val_accuracy', 'val_loss'])\n"
     ]
    }
   ],
   "source": [
    "print(training_history.history.keys())"
   ]
  },
  {
   "cell_type": "markdown",
   "id": "7312b601",
   "metadata": {},
   "source": [
    "## ACCURACY VISULALIZATION"
   ]
  },
  {
   "cell_type": "code",
   "execution_count": 154,
   "id": "3ffdc6cd-35ec-4596-acbc-6e5449b5ab06",
   "metadata": {},
   "outputs": [
    {
     "data": {
      "image/png": "[encoded data removed]",
      "text/plain": [
       "<Figure size 640x480 with 1 Axes>"
      ]
     },
     "metadata": {},
     "output_type": "display_data"
    }
   ],
   "source": [
    "epochs = [i for i in range(1,11)]\n",
    "plt.plot(epochs,training_history.history['accuracy'],color='red',label='Training Accuracy')\n",
    "plt.plot(epochs,training_history.history['val_accuracy'],color='blue',label='Validation Accuracy')\n",
    "plt.xlabel('No. of Epochs')\n",
    "plt.title('Visualization of Accuracy Result')\n",
    "plt.legend()\n",
    "plt.show()"
   ]
  },
  {
   "cell_type": "code",
   "execution_count": null,
   "id": "3d9c7ef2",
   "metadata": {},
   "outputs": [],
   "source": []
  }
 ],
 "metadata": {
  "kernelspec": {
   "display_name": "Python 3 (ipykernel)",
   "language": "python",
   "name": "python3"
  },
  "language_info": {
   "codemirror_mode": {
    "name": "ipython",
    "version": 3
   },
   "file_extension": ".py",
   "mimetype": "text/x-python",
   "name": "python",
   "nbconvert_exporter": "python",
   "pygments_lexer": "ipython3",
   "version": "3.11.5"
  }
 },
 "nbformat": 4,
 "nbformat_minor": 5
}
